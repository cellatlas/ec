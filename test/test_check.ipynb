{
  "cells": [
    {
      "cell_type": "markdown",
      "metadata": {
        "id": "view-in-github",
        "colab_type": "text"
      },
      "source": [
        "<a href=\"https://colab.research.google.com/github/sbooeshaghi/ec/blob/main/test/test_check.ipynb\" target=\"_parent\"><img src=\"https://colab.research.google.com/assets/colab-badge.svg\" alt=\"Open In Colab\"/></a>"
      ]
    },
    {
      "cell_type": "code",
      "source": [
        "import numpy as np\n",
        "from collections import defaultdict\n",
        "\n",
        "def diff(A, B):\n",
        "    left  = np.setdiff1d(A, B).shape[0]\n",
        "    itx   = np.intersect1d(A, B).shape[0]\n",
        "    right = np.setdiff1d(B, A).shape[0]\n",
        "    return (left, itx, right)\n",
        "\n",
        "def read_markers_txt(fname, markers=defaultdict(list)):\n",
        "    with open(fname, \"r\") as f:\n",
        "        for idx, line in enumerate(f.readlines()):\n",
        "            ct_id, gene_ids = line.strip().split(\"\\t\")\n",
        "            markers[ct_id] = [i for i in gene_ids.split(\",\")]\n",
        "\n",
        "mec = defaultdict(list)\n",
        "read_markers_txt(\"testis_markers.txt\", mec)\n",
        "\n",
        "groups = list(mec.keys())\n",
        "n_groups = len(groups)\n",
        "\n",
        "for r1_idx in np.arange(n_groups):\n",
        "  for r2_idx in np.arange(r1_idx + 1, n_groups):\n",
        "    r1 = mec[groups[r1_idx]]\n",
        "    r2 = mec[groups[r2_idx]]\n",
        "    l, i, r = diff(r1,  r2)\n",
        "    if l == 0:\n",
        "      print(f\"{groups[r1_idx]} is a subset of {groups[r2_idx]}\")\n",
        "    elif r == 0:\n",
        "      print(f\"{groups[r2_idx]} is a subset of {groups[r1_idx]}\")"
      ],
      "metadata": {
        "id": "gFrA0KvjAkB2"
      },
      "execution_count": 62,
      "outputs": []
    },
    {
      "cell_type": "code",
      "source": [],
      "metadata": {
        "id": "NTTCeOHr-G5P"
      },
      "execution_count": 27,
      "outputs": []
    }
  ],
  "metadata": {
    "colab": {
      "name": "scratchpad",
      "provenance": [],
      "include_colab_link": true
    },
    "kernelspec": {
      "display_name": "Python 3",
      "name": "python3"
    }
  },
  "nbformat": 4,
  "nbformat_minor": 0
}